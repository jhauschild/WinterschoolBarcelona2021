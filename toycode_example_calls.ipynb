{
 "cells": [
  {
   "cell_type": "markdown",
   "id": "16e0042f",
   "metadata": {},
   "source": [
    "# Example functions inside toycodes\n",
    "\n",
    "\n",
    "This notebook just gives further illustrations how the toycodes can be called."
   ]
  },
  {
   "cell_type": "markdown",
   "id": "996d8a69",
   "metadata": {},
   "source": [
    "Uncomment and run the cells below (removing the `#`) when running this notebook on https://colab.research.google.com.\n",
    "\n",
    "Alternatively, you can run this notebook locally with jupyter, provided that you have the `toycodes` subfolder from \n",
    "\n",
    "https://github.com/jhauschild/WinterschoolBarcelona2021\n",
    "\n",
    "in the same folder as your notebook."
   ]
  },
  {
   "cell_type": "code",
   "execution_count": 1,
   "id": "94544b62",
   "metadata": {},
   "outputs": [],
   "source": [
    "#!pip install git+git://github.com/jhauschild/WinterschoolBarcelona2021\n",
    "\n",
    "# use `pip uninstall tenpy-toycodes` to remove it a gain."
   ]
  },
  {
   "cell_type": "markdown",
   "id": "6729423c",
   "metadata": {},
   "source": [
    "## c_tebd.py"
   ]
  },
  {
   "cell_type": "code",
   "execution_count": 2,
   "id": "f293bea9",
   "metadata": {},
   "outputs": [],
   "source": [
    "from toycodes import c_tebd"
   ]
  },
  {
   "cell_type": "code",
   "execution_count": 3,
   "id": "3b47bb7c",
   "metadata": {},
   "outputs": [
    {
     "name": "stdout",
     "output_type": "stream",
     "text": [
      "finite TEBD, imaginary time evolution, transverse field Ising\n",
      "L=10, g=1.00\n",
      "dt = 0.10000: E = -12.3446865032241\n",
      "dt = 0.01000: E = -12.3780979960037\n",
      "dt = 0.00100: E = -12.3811510623369\n",
      "dt = 0.00010: E = -12.3814538480965\n",
      "dt = 0.00001: E = -12.3814841409341\n",
      "final bond dimensions:  [2, 4, 8, 14, 19, 14, 8, 4, 2]\n",
      "magnetization in X = 7.32205\n",
      "magnetization in Z = 0.00000\n",
      "Exact diagonalization: E = -12.3814899996548\n",
      "relative error:  4.731838165479094e-07\n"
     ]
    },
    {
     "data": {
      "text/plain": [
       "(-12.381484140934075,\n",
       " <toycodes.a_mps.SimpleMPS at 0x7f5e605c17c0>,\n",
       " <toycodes.b_model.TFIModel at 0x7f5e3b2afa90>)"
      ]
     },
     "execution_count": 3,
     "metadata": {},
     "output_type": "execute_result"
    }
   ],
   "source": [
    "c_tebd.example_TEBD_gs_tf_ising_finite(L=10, g=1.)"
   ]
  },
  {
   "cell_type": "code",
   "execution_count": 4,
   "id": "908c34ab",
   "metadata": {},
   "outputs": [
    {
     "name": "stdout",
     "output_type": "stream",
     "text": [
      "infinite TEBD, imaginary time evolution, transverse field Ising\n",
      "g=1.50\n",
      "dt = 0.10000: E (per site) = -1.6622376659950\n",
      "dt = 0.01000: E (per site) = -1.6709751043234\n",
      "dt = 0.00100: E (per site) = -1.6718311225992\n",
      "dt = 0.00010: E (per site) = -1.6719164301789\n",
      "dt = 0.00001: E (per site) = -1.6719249672500\n",
      "final bond dimensions:  [21, 21]\n",
      "<sigma_x> = 0.87733\n",
      "<sigma_z> = -0.00000\n",
      "correlation length: 2.410718886448188\n",
      "Analytic result: E (per site) = -1.6719262215362\n",
      "relative error:  7.502042882944907e-07\n"
     ]
    }
   ],
   "source": [
    "E, psi, model = c_tebd.example_TEBD_gs_tf_ising_infinite(g=1.5)"
   ]
  },
  {
   "cell_type": "markdown",
   "id": "1f2787a2",
   "metadata": {},
   "source": [
    "## d_dmrg.py"
   ]
  },
  {
   "cell_type": "code",
   "execution_count": 5,
   "id": "f6f30472",
   "metadata": {},
   "outputs": [],
   "source": [
    "from toycodes import d_dmrg"
   ]
  },
  {
   "cell_type": "code",
   "execution_count": 6,
   "id": "28eba62b",
   "metadata": {},
   "outputs": [
    {
     "name": "stdout",
     "output_type": "stream",
     "text": [
      "finite DMRG, transverse field Ising\n",
      "L=10, g=1.00\n",
      "sweep  1: E = -12.3720222354851\n",
      "sweep  2: E = -12.3814900173904\n",
      "sweep  3: E = -12.3814899996548\n",
      "sweep  4: E = -12.3814899996548\n",
      "sweep  5: E = -12.3814899996548\n",
      "sweep  6: E = -12.3814899996548\n",
      "sweep  7: E = -12.3814899996548\n",
      "sweep  8: E = -12.3814899996548\n",
      "sweep  9: E = -12.3814899996548\n",
      "sweep 10: E = -12.3814899996548\n",
      "final bond dimensions:  [2, 4, 8, 14, 19, 14, 8, 4, 2]\n",
      "magnetization in X = 7.32255\n",
      "magnetization in Z = -0.00000\n",
      "Exact diagonalization: E = -12.3814899996547\n",
      "relative error:  1.4346874563964308e-15\n"
     ]
    }
   ],
   "source": [
    "E, psi, model = d_dmrg.example_DMRG_tf_ising_finite(L=10, g=1.)"
   ]
  },
  {
   "cell_type": "code",
   "execution_count": 7,
   "id": "3afe4152",
   "metadata": {},
   "outputs": [
    {
     "name": "stdout",
     "output_type": "stream",
     "text": [
      "infinite DMRG, transverse field Ising\n",
      "g=1.50\n",
      "sweep  1: E (per site) = -1.6772694701518\n",
      "sweep  2: E (per site) = -1.6723228806395\n",
      "sweep  3: E (per site) = -1.6719671140528\n",
      "sweep  4: E (per site) = -1.6719314036249\n",
      "sweep  5: E (per site) = -1.6719269556168\n",
      "sweep  6: E (per site) = -1.6719263323442\n",
      "sweep  7: E (per site) = -1.6719262389782\n",
      "sweep  8: E (per site) = -1.6719262243659\n",
      "sweep  9: E (per site) = -1.6719262220060\n",
      "sweep 10: E (per site) = -1.6719262216156\n",
      "sweep 11: E (per site) = -1.6719262215498\n",
      "sweep 12: E (per site) = -1.6719262215386\n",
      "sweep 13: E (per site) = -1.6719262215366\n",
      "sweep 14: E (per site) = -1.6719262215363\n",
      "sweep 15: E (per site) = -1.6719262215362\n",
      "sweep 16: E (per site) = -1.6719262215362\n",
      "sweep 17: E (per site) = -1.6719262215362\n",
      "sweep 18: E (per site) = -1.6719262215362\n",
      "sweep 19: E (per site) = -1.6719262215362\n",
      "sweep 20: E (per site) = -1.6719262215362\n",
      "final bond dimensions:  [30, 30]\n",
      "<sigma_x> = 0.87733\n",
      "<sigma_z> = -0.00000\n",
      "correlation length: 2.4243834113751177\n",
      "Analytic result: E (per site) = -1.6719262215362\n",
      "relative error:  3.320191436453052e-15\n"
     ]
    }
   ],
   "source": [
    "E, psi, model = d_dmrg.example_DMRG_tf_ising_infinite(g=1.5)"
   ]
  },
  {
   "cell_type": "markdown",
   "id": "4c31ce8e",
   "metadata": {},
   "source": [
    "## e_tdvp.py"
   ]
  },
  {
   "cell_type": "code",
   "execution_count": 8,
   "id": "f2493949",
   "metadata": {},
   "outputs": [],
   "source": [
    "from toycodes import e_tdvp"
   ]
  },
  {
   "cell_type": "code",
   "execution_count": 9,
   "id": "5a71b3d9",
   "metadata": {},
   "outputs": [
    {
     "name": "stdout",
     "output_type": "stream",
     "text": [
      "finite TEBD, real time evolution, transverse field Ising\n",
      "L=20, g=1.50, tmax=3.00, dt=0.050\n",
      "finite DMRG, transverse field Ising\n",
      "L=20, g=1.50\n",
      "sweep  1: E = -33.2584260524715\n",
      "sweep  2: E = -33.2545167807381\n",
      "sweep  3: E = -33.2545167536354\n",
      "sweep  4: E = -33.2545167536354\n",
      "sweep  5: E = -33.2545167536354\n",
      "sweep  6: E = -33.2545167536354\n",
      "sweep  7: E = -33.2545167536354\n",
      "sweep  8: E = -33.2545167536354\n",
      "sweep  9: E = -33.2545167536354\n",
      "sweep 10: E = -33.2545167536354\n",
      "final bond dimensions:  [2, 4, 8, 13, 17, 20, 20, 20, 20, 20, 20, 20, 20, 20, 17, 13, 8, 4, 2]\n",
      "magnetization in X = 17.69863\n",
      "magnetization in Z = 0.00000\n",
      "E after applying Sz = -30.6225268617764\n",
      "t = 0.00, chi = [2, 4, 8, 13, 17, 20, 20, 20, 20, 20, 20, 20, 20, 20, 17, 13, 8, 4, 2]\n",
      "t = 0.20, chi = [2, 4, 8, 13, 17, 20, 20, 20, 20, 20, 20, 20, 20, 20, 17, 13, 8, 4, 2]\n",
      "t = 0.40, chi = [2, 4, 8, 13, 17, 20, 20, 20, 20, 20, 20, 20, 20, 20, 17, 13, 8, 4, 2]\n",
      "t = 0.60, chi = [2, 4, 8, 13, 17, 20, 20, 20, 20, 20, 20, 20, 20, 20, 17, 13, 8, 4, 2]\n",
      "t = 0.80, chi = [2, 4, 8, 13, 17, 20, 20, 20, 20, 20, 20, 20, 20, 20, 17, 13, 8, 4, 2]\n",
      "t = 1.00, chi = [2, 4, 8, 13, 17, 20, 20, 20, 20, 20, 20, 20, 20, 20, 17, 13, 8, 4, 2]\n",
      "t = 1.20, chi = [2, 4, 8, 13, 17, 20, 20, 20, 20, 20, 20, 20, 20, 20, 17, 13, 8, 4, 2]\n",
      "t = 1.40, chi = [2, 4, 8, 13, 17, 20, 20, 20, 20, 20, 20, 20, 20, 20, 17, 13, 8, 4, 2]\n",
      "t = 1.60, chi = [2, 4, 8, 13, 17, 20, 20, 20, 20, 20, 20, 20, 20, 20, 17, 13, 8, 4, 2]\n",
      "t = 1.80, chi = [2, 4, 8, 13, 17, 20, 20, 20, 20, 20, 20, 20, 20, 20, 17, 13, 8, 4, 2]\n",
      "t = 2.00, chi = [2, 4, 8, 13, 17, 20, 20, 20, 20, 20, 20, 20, 20, 20, 17, 13, 8, 4, 2]\n",
      "t = 2.20, chi = [2, 4, 8, 13, 17, 20, 20, 20, 20, 20, 20, 20, 20, 20, 17, 13, 8, 4, 2]\n",
      "t = 2.40, chi = [2, 4, 8, 13, 17, 20, 20, 20, 20, 20, 20, 20, 20, 20, 17, 13, 8, 4, 2]\n",
      "t = 2.60, chi = [2, 4, 8, 13, 17, 20, 20, 20, 20, 20, 20, 20, 20, 20, 17, 13, 8, 4, 2]\n",
      "t = 2.80, chi = [2, 4, 8, 13, 17, 20, 20, 20, 20, 20, 20, 20, 20, 20, 17, 13, 8, 4, 2]\n",
      "final E = -30.6225239843234\n"
     ]
    },
    {
     "data": {
      "image/png": "[encoded data removed]",
      "text/plain": [
       "<Figure size 432x288 with 2 Axes>"
      ]
     },
     "metadata": {
      "needs_background": "light"
     },
     "output_type": "display_data"
    }
   ],
   "source": [
    "e_tdvp.example_TDVP_tf_ising_lightcone(L=20, g=1.5, tmax=3., dt=0.05, one_site=True)"
   ]
  },
  {
   "cell_type": "code",
   "execution_count": null,
   "id": "b5c0d48b",
   "metadata": {},
   "outputs": [],
   "source": []
  },
  {
   "cell_type": "code",
   "execution_count": null,
   "id": "477a396d",
   "metadata": {},
   "outputs": [],
   "source": []
  }
 ],
 "metadata": {
  "kernelspec": {
   "display_name": "Python 3",
   "language": "python",
   "name": "python3"
  },
  "language_info": {
   "codemirror_mode": {
    "name": "ipython",
    "version": 3
   },
   "file_extension": ".py",
   "mimetype": "text/x-python",
   "name": "python",
   "nbconvert_exporter": "python",
   "pygments_lexer": "ipython3",
   "version": "3.8.1"
  }
 },
 "nbformat": 4,
 "nbformat_minor": 5
}
